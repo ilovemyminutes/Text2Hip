{
 "cells": [
  {
   "cell_type": "markdown",
   "metadata": {},
   "source": [
    "### kakao brunch posts crawling\n",
    "- 구글링 결과 시중에 출판되고 있는 수필은 구하기가 어렵다.\n",
    "- 따라서 다양한 수필이 연재되고 크롤링이 허가되어있는 브런치를 활용한다."
   ]
  },
  {
   "cell_type": "code",
   "execution_count": 46,
   "metadata": {},
   "outputs": [],
   "source": [
    "from selenium import webdriver\n",
    "import requests\n",
    "from bs4 import BeautifulSoup\n",
    "import pandas as pd"
   ]
  },
  {
   "cell_type": "code",
   "execution_count": 42,
   "metadata": {},
   "outputs": [],
   "source": [
    "driver = webdriver.Chrome('chromedriver')\n",
    "driver.implicitly_wait(3) # 모든 자원이 로드될 때가지 기다리는 시간 지정"
   ]
  },
  {
   "cell_type": "markdown",
   "metadata": {},
   "source": [
    "#### normal posts"
   ]
  },
  {
   "cell_type": "code",
   "execution_count": 17,
   "metadata": {},
   "outputs": [],
   "source": [
    "path_origin = 'https://brunch.co.kr/'\n",
    "driver.get(path_origin) \n",
    "html = driver.page_source\n",
    "source = BeautifulSoup(html, 'html.parser')\n",
    "temp = source.find_all('a', {'class': 'keyword_item brunch_keyword_item'})\n",
    "kwd_links = [path_origin + temp[i]['href'] for i in range(len(temp))]"
   ]
  },
  {
   "cell_type": "code",
   "execution_count": 104,
   "metadata": {},
   "outputs": [],
   "source": [
    "i = 12\n",
    "driver.get(kwd_links[i])"
   ]
  },
  {
   "cell_type": "code",
   "execution_count": 105,
   "metadata": {},
   "outputs": [
    {
     "name": "stdout",
     "output_type": "stream",
     "text": [
      "Total links: 1246\n",
      "100 post were saved.\n",
      "200 post were saved.\n",
      "300 post were saved.\n",
      "400 post were saved.\n",
      "500 post were saved.\n",
      "600 post were saved.\n",
      "700 post were saved.\n",
      "800 post were saved.\n",
      "900 post were saved.\n",
      "1000 post were saved.\n",
      "1100 post were saved.\n",
      "1200 post were saved.\n"
     ]
    }
   ],
   "source": [
    "html = driver.page_source\n",
    "source = BeautifulSoup(html, 'html.parser')\n",
    "temp = source.find_all('a', {'class': 'link_post'})\n",
    "link_posts = ['https:\\\\brunch.co.kr' + temp[i]['href'] for i in range(len(temp))]\n",
    "\n",
    "title_list = []\n",
    "contents_list  = []\n",
    "print(f'Total links: {len(link_posts)}')\n",
    "for idx, link in enumerate(link_posts):\n",
    "    if idx%100==0 and idx!=0:\n",
    "        print(idx, 'post were saved.')\n",
    "    driver.get(link)\n",
    "    html = driver.page_source\n",
    "    source = BeautifulSoup(html, 'html.parser')\n",
    "    texts = source.text.split('\\n\\n\\n\\n\\n\\n\\n댓글')[0].split('keyword')[0].replace('\\xa0', ' ')\n",
    "    title = texts.split('\\twindow')[0].split('\\n')[1].strip()\n",
    "    contents = texts.split('\\twindow')[1]\n",
    "    if len(contents.split('분전\\n')) == 1:\n",
    "        contents = contents.split('간전\\n')[-1]\n",
    "    else:\n",
    "        contents = contents.split('분전\\n')[-1]\n",
    "    title_list.append(title)\n",
    "    contents_list.append(contents)"
   ]
  },
  {
   "cell_type": "code",
   "execution_count": 107,
   "metadata": {},
   "outputs": [
    {
     "data": {
      "text/html": [
       "<div>\n",
       "<style scoped>\n",
       "    .dataframe tbody tr th:only-of-type {\n",
       "        vertical-align: middle;\n",
       "    }\n",
       "\n",
       "    .dataframe tbody tr th {\n",
       "        vertical-align: top;\n",
       "    }\n",
       "\n",
       "    .dataframe thead th {\n",
       "        text-align: right;\n",
       "    }\n",
       "</style>\n",
       "<table border=\"1\" class=\"dataframe\">\n",
       "  <thead>\n",
       "    <tr style=\"text-align: right;\">\n",
       "      <th></th>\n",
       "      <th>title</th>\n",
       "      <th>contents</th>\n",
       "    </tr>\n",
       "  </thead>\n",
       "  <tbody>\n",
       "    <tr>\n",
       "      <th>0</th>\n",
       "      <td>여름 감자! 너는 정말</td>\n",
       "      <td>\\n감자!여름이 깊어지니 감자가 지천인 것 같다. 언제나 투박하고 정겨운 그 모습 ...</td>\n",
       "    </tr>\n",
       "    <tr>\n",
       "      <th>1</th>\n",
       "      <td>비오는 날 아이도 좋아하는 바삭한 '부추전'</td>\n",
       "      <td>\\n장마철이 시작되면 빗소리를 똑 닮은 전 부치는 소리가 떠오르는데요. 오늘의 요리...</td>\n",
       "    </tr>\n",
       "    <tr>\n",
       "      <th>2</th>\n",
       "      <td>어린 시절로 돌아가게 해주는 음식. '나폴리탄'</td>\n",
       "      <td>._platform = \"pc\";\\n\\n\\n\\n\\n\\n        if ('und...</td>\n",
       "    </tr>\n",
       "    <tr>\n",
       "      <th>3</th>\n",
       "      <td>Korean melon</td>\n",
       "      <td>._platform = \"pc\";\\n\\n\\n\\n\\n\\n        if ('und...</td>\n",
       "    </tr>\n",
       "    <tr>\n",
       "      <th>4</th>\n",
       "      <td>만들기 쉽고 맛도 좋은 카나페 만들기</td>\n",
       "      <td>._platform = \"pc\";\\n\\n\\n\\n\\n\\n        if ('und...</td>\n",
       "    </tr>\n",
       "  </tbody>\n",
       "</table>\n",
       "</div>"
      ],
      "text/plain": [
       "                        title  \\\n",
       "0                여름 감자! 너는 정말   \n",
       "1    비오는 날 아이도 좋아하는 바삭한 '부추전'   \n",
       "2  어린 시절로 돌아가게 해주는 음식. '나폴리탄'   \n",
       "3                Korean melon   \n",
       "4        만들기 쉽고 맛도 좋은 카나페 만들기   \n",
       "\n",
       "                                            contents  \n",
       "0  \\n감자!여름이 깊어지니 감자가 지천인 것 같다. 언제나 투박하고 정겨운 그 모습 ...  \n",
       "1  \\n장마철이 시작되면 빗소리를 똑 닮은 전 부치는 소리가 떠오르는데요. 오늘의 요리...  \n",
       "2  ._platform = \"pc\";\\n\\n\\n\\n\\n\\n        if ('und...  \n",
       "3  ._platform = \"pc\";\\n\\n\\n\\n\\n\\n        if ('und...  \n",
       "4  ._platform = \"pc\";\\n\\n\\n\\n\\n\\n        if ('und...  "
      ]
     },
     "metadata": {},
     "output_type": "display_data"
    }
   ],
   "source": [
    "output = pd.DataFrame({'title': title_list, 'contents': contents_list})\n",
    "display(output.head())\n",
    "output.to_csv(f'normal_{i-2}.csv', index=False)"
   ]
  },
  {
   "cell_type": "markdown",
   "metadata": {},
   "source": [
    "#### brunch now"
   ]
  },
  {
   "cell_type": "code",
   "execution_count": 60,
   "metadata": {},
   "outputs": [
    {
     "data": {
      "text/plain": [
       "['https://brunch.co.kr//@iamdreamhopper/28',\n",
       " 'https://brunch.co.kr//@likethat08/146',\n",
       " 'https://brunch.co.kr//@thana666/108']"
      ]
     },
     "execution_count": 60,
     "metadata": {},
     "output_type": "execute_result"
    }
   ],
   "source": [
    "path_origin = 'https://brunch.co.kr/now'\n",
    "driver.get(path_origin) \n",
    "html = driver.page_source\n",
    "\n",
    "source = BeautifulSoup(html, 'html.parser')\n",
    "temp = source.find_all('a', {'class' : 'link_common #post'})\n",
    "temp[0]\n",
    "\n",
    "path = 'https://brunch.co.kr/'\n",
    "post_links = [path + temp[i]['href'] for i in range(len(temp))]\n",
    "post_links[:3]"
   ]
  },
  {
   "cell_type": "code",
   "execution_count": 137,
   "metadata": {},
   "outputs": [
    {
     "name": "stdout",
     "output_type": "stream",
     "text": [
      "Total posts: 489\n",
      "20 posts were saved.\n",
      "40 posts were saved.\n",
      "60 posts were saved.\n",
      "80 posts were saved.\n",
      "100 posts were saved.\n",
      "120 posts were saved.\n",
      "140 posts were saved.\n",
      "160 posts were saved.\n",
      "180 posts were saved.\n",
      "200 posts were saved.\n",
      "220 posts were saved.\n",
      "240 posts were saved.\n",
      "260 posts were saved.\n",
      "280 posts were saved.\n",
      "300 posts were saved.\n",
      "320 posts were saved.\n",
      "340 posts were saved.\n",
      "360 posts were saved.\n",
      "380 posts were saved.\n",
      "400 posts were saved.\n",
      "420 posts were saved.\n",
      "440 posts were saved.\n",
      "460 posts were saved.\n",
      "480 posts were saved.\n"
     ]
    }
   ],
   "source": [
    "title_list = []\n",
    "contents_list = []\n",
    "print(f'Total posts: {len(post_links)}')\n",
    "for i in range(len(post_links)):\n",
    "    if i%20==0 and i !=0:\n",
    "        print(f'{i} posts were saved.')\n",
    "    driver.get(post_links[i])\n",
    "    html = driver.page_source\n",
    "    source = BeautifulSoup(html, 'html.parser')\n",
    "    texts = source.text.split('\\n\\n\\n\\n\\n\\n\\n댓글')[0].split('keyword')[0].replace('\\xa0', ' ')\n",
    "    title = texts.split('\\twindow')[0].split('\\n')[1].strip()\n",
    "    contents = texts.split('\\twindow')[1]\n",
    "    if len(contents.split('분전\\n')) == 1:\n",
    "        contents = contents.split('간전\\n')[-1]\n",
    "    else:\n",
    "        contents = contents.split('분전\\n')[-1]\n",
    "    title_list.append(title)\n",
    "    contents_list.append(contents)"
   ]
  },
  {
   "cell_type": "code",
   "execution_count": 140,
   "metadata": {},
   "outputs": [
    {
     "data": {
      "text/html": [
       "<div>\n",
       "<style scoped>\n",
       "    .dataframe tbody tr th:only-of-type {\n",
       "        vertical-align: middle;\n",
       "    }\n",
       "\n",
       "    .dataframe tbody tr th {\n",
       "        vertical-align: top;\n",
       "    }\n",
       "\n",
       "    .dataframe thead th {\n",
       "        text-align: right;\n",
       "    }\n",
       "</style>\n",
       "<table border=\"1\" class=\"dataframe\">\n",
       "  <thead>\n",
       "    <tr style=\"text-align: right;\">\n",
       "      <th></th>\n",
       "      <th>title</th>\n",
       "      <th>contents</th>\n",
       "    </tr>\n",
       "  </thead>\n",
       "  <tbody>\n",
       "    <tr>\n",
       "      <th>0</th>\n",
       "      <td>(성삼문) 황천 가는 길엔 주막 하나 없다는데...</td>\n",
       "      <td>\\n#1 이_아이를_부탁한다 ⓵    격고최인명(擊鼓催人命)회수일욕사(回首日欲斜)황...</td>\n",
       "    </tr>\n",
       "    <tr>\n",
       "      <th>1</th>\n",
       "      <td>새벽 세시 반. ​아직 동은 트지 않았다.</td>\n",
       "      <td>아래로\\n나는 장수생이었다. 그리고 지금도 장수생이다. 아직도 대학교에 재학 중이고...</td>\n",
       "    </tr>\n",
       "    <tr>\n",
       "      <th>2</th>\n",
       "      <td>전세를 사글세로 돌려 가게를 차리자</td>\n",
       "      <td>아래로\\n눈이 부시게 푸르른 날엔전세를 사글세로 돌려가게를 차리자병든 아이와 고장난...</td>\n",
       "    </tr>\n",
       "    <tr>\n",
       "      <th>3</th>\n",
       "      <td>경고! 브런치화 되지 말 것!</td>\n",
       "      <td>\\n무뜬금, 남편이 그런다. 글을 브런치화 시키지 말라고.      “그게 무슨 말...</td>\n",
       "    </tr>\n",
       "    <tr>\n",
       "      <th>4</th>\n",
       "      <td>저는 예민한 사람입니다.</td>\n",
       "      <td>\\n\"내가 그렇게 예민해?\"한 10년 전쯤 이였나요. 친한 친구들과 이야기를 하다가...</td>\n",
       "    </tr>\n",
       "  </tbody>\n",
       "</table>\n",
       "</div>"
      ],
      "text/plain": [
       "                          title  \\\n",
       "0  (성삼문) 황천 가는 길엔 주막 하나 없다는데...   \n",
       "1       새벽 세시 반. ​아직 동은 트지 않았다.   \n",
       "2           전세를 사글세로 돌려 가게를 차리자   \n",
       "3              경고! 브런치화 되지 말 것!   \n",
       "4                 저는 예민한 사람입니다.   \n",
       "\n",
       "                                            contents  \n",
       "0  \\n#1 이_아이를_부탁한다 ⓵    격고최인명(擊鼓催人命)회수일욕사(回首日欲斜)황...  \n",
       "1  아래로\\n나는 장수생이었다. 그리고 지금도 장수생이다. 아직도 대학교에 재학 중이고...  \n",
       "2  아래로\\n눈이 부시게 푸르른 날엔전세를 사글세로 돌려가게를 차리자병든 아이와 고장난...  \n",
       "3  \\n무뜬금, 남편이 그런다. 글을 브런치화 시키지 말라고.      “그게 무슨 말...  \n",
       "4  \\n\"내가 그렇게 예민해?\"한 10년 전쯤 이였나요. 친한 친구들과 이야기를 하다가...  "
      ]
     },
     "execution_count": 140,
     "metadata": {},
     "output_type": "execute_result"
    }
   ],
   "source": [
    "import pandas as pd\n",
    "output = pd.DataFrame({'title' : title_list, 'contents': contents_list})\n",
    "output.head()"
   ]
  },
  {
   "cell_type": "markdown",
   "metadata": {},
   "source": [
    "* Save"
   ]
  },
  {
   "cell_type": "code",
   "execution_count": 141,
   "metadata": {},
   "outputs": [],
   "source": [
    "output.to_csv('brunch_posts_200630.csv', index=False)"
   ]
  }
 ],
 "metadata": {
  "kernelspec": {
   "display_name": "Python 3",
   "language": "python",
   "name": "python3"
  },
  "language_info": {
   "codemirror_mode": {
    "name": "ipython",
    "version": 3
   },
   "file_extension": ".py",
   "mimetype": "text/x-python",
   "name": "python",
   "nbconvert_exporter": "python",
   "pygments_lexer": "ipython3",
   "version": "3.7.6"
  },
  "toc": {
   "base_numbering": 1,
   "nav_menu": {},
   "number_sections": true,
   "sideBar": true,
   "skip_h1_title": false,
   "title_cell": "Table of Contents",
   "title_sidebar": "Contents",
   "toc_cell": false,
   "toc_position": {},
   "toc_section_display": true,
   "toc_window_display": false
  },
  "varInspector": {
   "cols": {
    "lenName": 16,
    "lenType": 16,
    "lenVar": 40
   },
   "kernels_config": {
    "python": {
     "delete_cmd_postfix": "",
     "delete_cmd_prefix": "del ",
     "library": "var_list.py",
     "varRefreshCmd": "print(var_dic_list())"
    },
    "r": {
     "delete_cmd_postfix": ") ",
     "delete_cmd_prefix": "rm(",
     "library": "var_list.r",
     "varRefreshCmd": "cat(var_dic_list()) "
    }
   },
   "types_to_exclude": [
    "module",
    "function",
    "builtin_function_or_method",
    "instance",
    "_Feature"
   ],
   "window_display": false
  }
 },
 "nbformat": 4,
 "nbformat_minor": 4
}
